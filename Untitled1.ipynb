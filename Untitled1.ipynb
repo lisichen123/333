{
 "cells": [
  {
   "cell_type": "code",
   "execution_count": null,
   "metadata": {},
   "outputs": [],
   "source": [
    "import numpy as np\n",
    "import pandas as pd\n",
    "from pandas import DataFrame\n",
    "\n",
    "L = pd.read_csv(r'C:\\Users\\孙七天\\Desktop\\L.csv',header=None).values\n",
    "Y = pd.read_csv(r'C:\\Users\\孙七天\\Desktop\\Y.csv',header=None).values\n",
    "V = pd.read_csv(r'C:\\Users\\孙七天\\Desktop\\V.csv',header=None).values\n",
    "\n",
    "# print(V)\n",
    "# print(L)\n",
    "data = np.dot(V, L)\n",
    "data = data.T\n",
    "print(data.shape)\n",
    "data2 = np.dot(data, Y.T)\n",
    "d1 = DataFrame(data2)\n",
    "d1.to_csv(r'data.csv',header=None,index=False)"
   ]
  }
 ],
 "metadata": {
  "kernelspec": {
   "display_name": "Python 3",
   "language": "python",
   "name": "python3"
  },
  "language_info": {
   "codemirror_mode": {
    "name": "ipython",
    "version": 3
   },
   "file_extension": ".py",
   "mimetype": "text/x-python",
   "name": "python",
   "nbconvert_exporter": "python",
   "pygments_lexer": "ipython3",
   "version": "3.7.6"
  }
 },
 "nbformat": 4,
 "nbformat_minor": 4
}
